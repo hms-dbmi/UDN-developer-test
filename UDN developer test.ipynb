{
 "cells": [
  {
   "cell_type": "markdown",
   "metadata": {},
   "source": [
    "## Introduction\n",
    "At the Department of Biomedical Informatics the Data Core assists faculty members with the creation of tools to enable cutting edge research in multidisciplinary fields. Common tasks such as data warehousing, collection, or protection are not the expertise of the clinical faculty and it’s our job to be those specialists.\n",
    "\n",
    "## Purpose\n",
    "Show off your web development chops. Share with us an online repo demonstrating a recent project, something of the web app variety.  Add a detailed README that describes the purpose of the project if it doesn't already have one; include some design details and how the solution addresses the need. Good code is important but good communication is also key to helping others use what you've built. Alternatively if you don’t have a project repo to share, then complete the example project described below.\n",
    "\n",
    "The goal here is to help us understand how you develop software as a whole, including design, documentation and testing. For this exercise, writing clear code with intentional design are the most important parts. We recognize that you probably have a lot of other things going on in your life and so this shouldn't consume more than a few hours. Submit what you think is appropriate and then we can talk through the what you've done.  We're looking to understand how you approach and solve problems. Please used either Python or Javascript for \n",
    "\n",
    "Deliverables should include:\n",
    "- source code with instructions for launching the app\n",
    "- any additional relevant files such as documentation or design diagrams\n",
    "\n",
    "#### Example project description\n",
    "A key project managed by DBMI is the Undiagnosed Diseases Network (UDN). The UDN platform is a web app that collects information about participants and allows hospitals, medical centers, and research staff share and review participant information.\n",
    "\n",
    "For this test we would like you to create a small web app.  Specifically you should create two views: 1) add a participant by presenting a form that gathers details about a participant and 2) display a list of all participants with their data in a table. \n",
    "\n",
    "The form should have character input fields for \n",
    "- Participant Name\n",
    "- Participant Age\n",
    "- Does Participant have any siblings?\n",
    "- Known environmental exposures\n",
    "- Known genetic mutations\n",
    "\n",
    "After submitting information you should be redirected to the list view where each participant and the values they entered are present. \n",
    "\n",
    "**Bonus:** Add a dropdown box for each participant that would have 3 values (Not Reviewed, Reviewed - Accepted, Reviewed - Not Accepted). Changing of this dropdown should save this field alongside the participant data.\n",
    "\n"
   ]
  },
  {
   "cell_type": "code",
   "execution_count": null,
   "metadata": {},
   "outputs": [],
   "source": []
  }
 ],
 "metadata": {
  "kernelspec": {
   "display_name": "Python 3",
   "language": "python",
   "name": "python3"
  },
  "language_info": {
   "codemirror_mode": {
    "name": "ipython",
    "version": 3
   },
   "file_extension": ".py",
   "mimetype": "text/x-python",
   "name": "python",
   "nbconvert_exporter": "python",
   "pygments_lexer": "ipython3",
   "version": "3.7.4"
  }
 },
 "nbformat": 4,
 "nbformat_minor": 2
}
